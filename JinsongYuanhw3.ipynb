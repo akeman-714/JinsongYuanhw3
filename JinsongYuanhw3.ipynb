{
 "cells": [
  {
   "cell_type": "markdown",
   "id": "2f0927a4-7eca-41e8-80e7-18e7d1321ef6",
   "metadata": {},
   "source": [
    "Q1"
   ]
  },
  {
   "cell_type": "code",
   "execution_count": 45,
   "id": "5815a62d-6127-498a-a748-2adaf33553ea",
   "metadata": {},
   "outputs": [
    {
     "name": "stdout",
     "output_type": "stream",
     "text": [
      "\n",
      "Saved under shopping_trends (4).csv\n"
     ]
    }
   ],
   "source": [
    "!python -m wget https://www.andrew.cmu.edu/user/mfarag/static/shopping_trends.csv\n"
   ]
  },
  {
   "cell_type": "code",
   "execution_count": 46,
   "id": "4739abc2-2f1a-4bf8-bd2a-a13f5d984be8",
   "metadata": {},
   "outputs": [],
   "source": [
    "import findspark\n",
    "findspark.init()\n",
    "findspark.find()\n",
    "\n",
    "import pyspark\n",
    "from pyspark.sql import SparkSession\n",
    "\n",
    "\n",
    "spark = SparkSession.builder.master(\"local[*]\").appName('SparkTest').getOrCreate()"
   ]
  },
  {
   "cell_type": "markdown",
   "id": "a326e1cf-c826-4310-adb1-2aa0d2dcbb91",
   "metadata": {},
   "source": [
    "output of the description statistics"
   ]
  },
  {
   "cell_type": "code",
   "execution_count": 47,
   "id": "89f9a085-bf47-475c-8337-6adf215768fd",
   "metadata": {
    "scrolled": true
   },
   "outputs": [
    {
     "name": "stdout",
     "output_type": "stream",
     "text": [
      "-RECORD 0-------------------------------\n",
      " Customer ID              | 1           \n",
      " Age                      | 55          \n",
      " Gender                   | Male        \n",
      " Item Purchased           | Blouse      \n",
      " Category                 | Clothing    \n",
      " Purchase Amount (USD)    | 53          \n",
      " Location                 | Kentucky    \n",
      " Size                     | L           \n",
      " Color                    | Gray        \n",
      " Season                   | Winter      \n",
      " Review Rating            | 3.1         \n",
      " Subscription Status      | Yes         \n",
      " Payment Method           | Credit Card \n",
      " Shipping Type            | Express     \n",
      " Discount Applied         | Yes         \n",
      " Promo Code Used          | Yes         \n",
      " Previous Purchases       | 14          \n",
      " Preferred Payment Method | Venmo       \n",
      " Frequency of Purchases   | Fortnightly \n",
      "only showing top 1 row\n",
      "\n",
      "+-------+------------------+-----------------+------+--------------+-----------+---------------------+--------+----+------+------+------------------+-------------------+--------------+--------------+----------------+---------------+------------------+------------------------+----------------------+\n",
      "|summary|       Customer ID|              Age|Gender|Item Purchased|   Category|Purchase Amount (USD)|Location|Size| Color|Season|     Review Rating|Subscription Status|Payment Method| Shipping Type|Discount Applied|Promo Code Used|Previous Purchases|Preferred Payment Method|Frequency of Purchases|\n",
      "+-------+------------------+-----------------+------+--------------+-----------+---------------------+--------+----+------+------+------------------+-------------------+--------------+--------------+----------------+---------------+------------------+------------------------+----------------------+\n",
      "|  count|              3900|             3900|  3900|          3900|       3900|                 3900|    3900|3900|  3900|  3900|              3900|               3900|          3900|          3900|            3900|           3900|              3900|                    3900|                  3900|\n",
      "|   mean|            1950.5|44.06846153846154|  NULL|          NULL|       NULL|    59.76435897435898|    NULL|NULL|  NULL|  NULL| 3.749948717948712|               NULL|          NULL|          NULL|            NULL|           NULL| 25.35153846153846|                    NULL|                  NULL|\n",
      "| stddev|1125.9773532358456|15.20758912716237|  NULL|          NULL|       NULL|   23.685392250875328|    NULL|NULL|  NULL|  NULL|0.7162228139312412|               NULL|          NULL|          NULL|            NULL|           NULL|14.447125170462305|                    NULL|                  NULL|\n",
      "|    min|                 1|               18|Female|      Backpack|Accessories|                  100| Alabama|   L| Beige|  Fall|               2.5|                 No| Bank Transfer|2-Day Shipping|              No|             No|                 1|           Bank Transfer|              Annually|\n",
      "|    max|               999|               70|  Male|       T-shirt|  Outerwear|                   99| Wyoming|  XL|Yellow|Winter|               5.0|                Yes|         Venmo|  Store Pickup|             Yes|            Yes|                 9|                   Venmo|                Weekly|\n",
      "+-------+------------------+-----------------+------+--------------+-----------+---------------------+--------+----+------+------+------------------+-------------------+--------------+--------------+----------------+---------------+------------------+------------------------+----------------------+\n",
      "\n"
     ]
    }
   ],
   "source": [
    "df = spark.read.csv('shopping_trends.csv', header=True, sep=\",\")\n",
    "df.show(1, vertical=True)\n",
    "df.describe().show()"
   ]
  },
  {
   "cell_type": "code",
   "execution_count": 48,
   "id": "b6c9ce1d-ebfc-4993-abf9-c4716abec5df",
   "metadata": {},
   "outputs": [
    {
     "name": "stdout",
     "output_type": "stream",
     "text": [
      "root\n",
      " |-- customer_id: string (nullable = true)\n",
      " |-- Age: string (nullable = true)\n",
      " |-- Gender: string (nullable = true)\n",
      " |-- item_purchased: string (nullable = true)\n",
      " |-- Category: string (nullable = true)\n",
      " |-- purchase_amount_usd: string (nullable = true)\n",
      " |-- Location: string (nullable = true)\n",
      " |-- Size: string (nullable = true)\n",
      " |-- Color: string (nullable = true)\n",
      " |-- Season: string (nullable = true)\n",
      " |-- review_rating: string (nullable = true)\n",
      " |-- subscription_status: string (nullable = true)\n",
      " |-- payment_method: string (nullable = true)\n",
      " |-- shipping_type: string (nullable = true)\n",
      " |-- discount_applied: string (nullable = true)\n",
      " |-- promo_code_used: string (nullable = true)\n",
      " |-- previous_purchases: string (nullable = true)\n",
      " |-- preferred_payment_method: string (nullable = true)\n",
      " |-- frequency_of_purchases: string (nullable = true)\n",
      "\n"
     ]
    }
   ],
   "source": [
    "df=df.withColumnRenamed('Customer ID', 'customer_id')\\\n",
    "       .withColumnRenamed('Item Purchased', 'item_purchased')\\\n",
    "       .withColumnRenamed('Purchase Amount (USD)', 'purchase_amount_usd')\\\n",
    "       .withColumnRenamed('Review Rating', 'review_rating')\\\n",
    "       .withColumnRenamed('Subscription Status', 'subscription_status')\\\n",
    "       .withColumnRenamed('Payment Method', 'payment_method')\\\n",
    "       .withColumnRenamed('Shipping Type', 'shipping_type')\\\n",
    "       .withColumnRenamed('Discount Applied', 'discount_applied')\\\n",
    "       .withColumnRenamed('Promo Code Used', 'promo_code_used')\\\n",
    "       .withColumnRenamed('Previous Purchases', 'previous_purchases')\\\n",
    "       .withColumnRenamed('Preferred Payment Method', 'preferred_payment_method')\\\n",
    "       .withColumnRenamed('Frequency of Purchases', 'frequency_of_purchases')\n",
    "df.printSchema()\n"
   ]
  },
  {
   "cell_type": "code",
   "execution_count": 49,
   "id": "3c3ea31a-fc87-4837-b80a-a7b41fa439a4",
   "metadata": {},
   "outputs": [
    {
     "data": {
      "text/plain": [
       "['customer_id',\n",
       " 'Age',\n",
       " 'Gender',\n",
       " 'item_purchased',\n",
       " 'Category',\n",
       " 'purchase_amount_usd',\n",
       " 'Location',\n",
       " 'Size',\n",
       " 'Color',\n",
       " 'Season',\n",
       " 'review_rating',\n",
       " 'subscription_status',\n",
       " 'payment_method',\n",
       " 'shipping_type',\n",
       " 'discount_applied',\n",
       " 'promo_code_used',\n",
       " 'previous_purchases',\n",
       " 'preferred_payment_method',\n",
       " 'frequency_of_purchases']"
      ]
     },
     "execution_count": 49,
     "metadata": {},
     "output_type": "execute_result"
    }
   ],
   "source": [
    "df.columns"
   ]
  },
  {
   "cell_type": "code",
   "execution_count": 50,
   "id": "3ce02782-de50-40f0-91f9-056758b94678",
   "metadata": {},
   "outputs": [],
   "source": [
    "df = df.collect()"
   ]
  },
  {
   "cell_type": "markdown",
   "id": "74cd1b1f-5891-487f-8128-8dbe27fec787",
   "metadata": {},
   "source": [
    "Q2"
   ]
  },
  {
   "cell_type": "code",
   "execution_count": 51,
   "id": "45b810d3-3bbc-4d76-81d4-361d6d2d3e26",
   "metadata": {},
   "outputs": [],
   "source": [
    "from neo4j import GraphDatabase\n",
    "\n",
    "class Neo4JConnection:\n",
    "    def __init__(self, uri, user, password):\n",
    "        \"\"\"Initialize the Neo4j connection with URI, username, and password.\"\"\"\n",
    "        self.driver = GraphDatabase.driver(uri, auth=(user, password))\n",
    "\n",
    "    def close(self):\n",
    "        \"\"\"Close the Neo4j connection.\"\"\"\n",
    "        if self.driver:\n",
    "            self.driver.close()\n",
    "\n",
    "    def execute_query(self, query, parameters=None):\n",
    "        \"\"\"Execute a Cypher query and return the result.\"\"\"\n",
    "        with self.driver.session() as session:\n",
    "            result = session.run(query, parameters)\n",
    "            return result.data()"
   ]
  },
  {
   "cell_type": "code",
   "execution_count": 52,
   "id": "81b2ab6d-ebbd-48c1-b9d4-7a503e7ed313",
   "metadata": {},
   "outputs": [],
   "source": [
    "uri = \"neo4j+ssc://60282b47.databases.neo4j.io\"\n",
    "user = \"neo4j\"\n",
    "password = \"9VUwNvDamRhFZlPfuFFp_DGJE9eDen_ARYViMfSUTho\"\n",
    "\n",
    "# Initialize Neo4j connection\n",
    "neo4j_conn = Neo4JConnection(uri, user, password)\n",
    "driver = GraphDatabase.driver(\n",
    "    uri,auth=(user,password)\n",
    ")"
   ]
  },
  {
   "cell_type": "code",
   "execution_count": 59,
   "id": "c69beed1-c58f-4fb0-975a-711ba860ca3e",
   "metadata": {},
   "outputs": [],
   "source": [
    "def create_nodes_and_relationships(df, neo4j_conn):\n",
    "    try:\n",
    "        for row in df:\n",
    "            query_user= \"\"\"\n",
    "            MERGE (u:User{customer_id:$customer_id})\n",
    "            SET u.age=$age, u.gender=$gender\n",
    "            \"\"\"\n",
    "            neo4j_conn.execute_query(query_user, parameters={\n",
    "                \"customer_id\":row['customer_id'],  \n",
    "                \"age\":row[\"Age\"],  \n",
    "                \"gender\":row[\"Gender\"]  \n",
    "            })\n",
    "    \n",
    "            query_item= \"\"\"\n",
    "            MERGE (i:Item {item_name:$item_name})\n",
    "            \"\"\"\n",
    "            neo4j_conn.execute_query(query_item, parameters={\n",
    "                \"item_name\":row[\"item_purchased\"] \n",
    "            })\n",
    "    \n",
    "            query_relations= \"\"\"\n",
    "            MATCH (u:User {customer_id: $customer_id}), (i:Item {item_name: $item_name})\n",
    "            MERGE (u)-[r: PURCHASED]-> (i)\n",
    "            SET r.location= $location, r.purchase_amount=$purchase_amount, \n",
    "                r.size= $size, r.color= $color, r.season= $season,\n",
    "                r.review_rating= $review_rating, r.subscription_status= $subscription_status, \n",
    "                r.payment_method= $payment_method, r.shipping_type= $shipping_type,\n",
    "                r.discount_applied= $discount_applied, r.promo_code_used= $promo_code_used,\n",
    "                r.previous_purchases= $previous_purchases, r.preferred_payment_method= $preferred_payment_method, \n",
    "                r.frequency_of_purchases= $frequency_of_purchases\n",
    "            \"\"\"\n",
    "            neo4j_conn.execute_query(query_relations, parameters= {\n",
    "                \"customer_id\":row['customer_id'],  \n",
    "                \"item_name\": row['item_purchased'],  \n",
    "                \"location\": row['Location'],  \n",
    "                \"purchase_amount\": row['purchase_amount_usd'],  \n",
    "                \"size\": row['Size'],  \n",
    "                \"color\": row['Color'],  \n",
    "                \"season\":row['Season'],  \n",
    "                \"review_rating\": row['review_rating'],  \n",
    "                \"subscription_status\": row['subscription_status'], \n",
    "                \"payment_method\": row['payment_method'],  \n",
    "                \"shipping_type\": row['shipping_type'], \n",
    "                \"discount_applied\": row['discount_applied'],  \n",
    "                \"promo_code_used\": row['promo_code_used'],  \n",
    "                \"previous_purchases\": row['previous_purchases'],  \n",
    "                \"preferred_payment_method\": row['preferred_payment_method'],  \n",
    "                \"frequency_of_purchases\": row['frequency_of_purchases']  \n",
    "            })\n",
    "    finally:\n",
    "        # Close the connection when done\n",
    "        neo4j_conn.close()\n"
   ]
  },
  {
   "cell_type": "code",
   "execution_count": 60,
   "id": "e0b0eb73-1889-44e1-aea7-643bdc9cbdcb",
   "metadata": {
    "scrolled": true
   },
   "outputs": [
    {
     "name": "stderr",
     "output_type": "stream",
     "text": [
      "C:\\Users\\25353\\AppData\\Local\\Temp\\ipykernel_36792\\1646435487.py:15: DeprecationWarning: Using a driver after it has been closed is deprecated. Future versions of the driver will raise an error.\n",
      "  with self.driver.session() as session:\n"
     ]
    }
   ],
   "source": [
    "create_nodes_and_relationships(df, neo4j_conn)"
   ]
  },
  {
   "cell_type": "markdown",
   "id": "44676a09-0446-4bc1-915b-97431d850e96",
   "metadata": {},
   "source": [
    "a query that retrieves the stored records"
   ]
  },
  {
   "cell_type": "code",
   "execution_count": 99,
   "id": "8bcf2880-6ec2-419b-9a4b-b946110a15dc",
   "metadata": {},
   "outputs": [
    {
     "name": "stdout",
     "output_type": "stream",
     "text": [
      "[{'u': {'gender': 'Female', 'customer_id': '2874', 'age': '44'}, 'p': ({'gender': 'Female', 'customer_id': '2874', 'age': '44'}, 'PURCHASED', {'item_name': 'Sweater'}), 'i': {'item_name': 'Sweater'}}, {'u': {'gender': 'Male', 'customer_id': '2', 'age': '19'}, 'p': ({'gender': 'Male', 'customer_id': '2', 'age': '19'}, 'PURCHASED', {'item_name': 'Sweater'}), 'i': {'item_name': 'Sweater'}}, {'u': {'gender': 'Male', 'customer_id': '19', 'age': '52'}, 'p': ({'gender': 'Male', 'customer_id': '19', 'age': '52'}, 'PURCHASED', {'item_name': 'Sweater'}), 'i': {'item_name': 'Sweater'}}, {'u': {'gender': 'Male', 'customer_id': '61', 'age': '50'}, 'p': ({'gender': 'Male', 'customer_id': '61', 'age': '50'}, 'PURCHASED', {'item_name': 'Sweater'}), 'i': {'item_name': 'Sweater'}}, {'u': {'gender': 'Male', 'customer_id': '94', 'age': '37'}, 'p': ({'gender': 'Male', 'customer_id': '94', 'age': '37'}, 'PURCHASED', {'item_name': 'Sweater'}), 'i': {'item_name': 'Sweater'}}]\n"
     ]
    },
    {
     "name": "stderr",
     "output_type": "stream",
     "text": [
      "C:\\Users\\25353\\AppData\\Local\\Temp\\ipykernel_36792\\1646435487.py:15: DeprecationWarning: Using a driver after it has been closed is deprecated. Future versions of the driver will raise an error.\n",
      "  with self.driver.session() as session:\n"
     ]
    }
   ],
   "source": [
    "def showgraph(connection):\n",
    "    query=\"\"\"MATCH (u:User)-[p:PURCHASED]-> (i:Item)\n",
    "    RETURN u, p, i\n",
    "    LIMIT 5\n",
    "    \"\"\"\n",
    "    result = connection.execute_query(query)\n",
    "    print(result)\n",
    "showgraph(neo4j_conn)"
   ]
  },
  {
   "cell_type": "markdown",
   "id": "4780c159-0050-4cb3-906e-396cdfb941e7",
   "metadata": {},
   "source": [
    "references: “Merge - Cypher Manual.” Neo4j Graph Data Platform, neo4j.com/docs/cypher-manual/current/clauses/merge/. Accessed 21 Sept. 2024. \n",
    "Parameters - Cypher Manual. (n.d.). Neo4j Graph Data Platform. https://neo4j.com/docs/cypher-manual/current/syntax/parameters/"
   ]
  },
  {
   "cell_type": "markdown",
   "id": "c7575382-8d27-4227-b740-02aae976e5a9",
   "metadata": {},
   "source": [
    "Q3"
   ]
  },
  {
   "cell_type": "code",
   "execution_count": 102,
   "id": "bfe8dec4-1ebb-4249-b4af-b740a5faf3a2",
   "metadata": {},
   "outputs": [
    {
     "name": "stdout",
     "output_type": "stream",
     "text": [
      "[{'percent50': 39.97435897435898}]\n"
     ]
    },
    {
     "name": "stderr",
     "output_type": "stream",
     "text": [
      "C:\\Users\\25353\\AppData\\Local\\Temp\\ipykernel_36792\\1646435487.py:15: DeprecationWarning: Using a driver after it has been closed is deprecated. Future versions of the driver will raise an error.\n",
      "  with self.driver.session() as session:\n"
     ]
    }
   ],
   "source": [
    "def get_50old_percent(connection):\n",
    "    query = \"\"\"\n",
    "    MATCH (u:User) \n",
    "    WITH count(u) AS total_users \n",
    "    MATCH (u:User)\n",
    "    WHERE toInteger(u.age) >= 50\n",
    "    WITH total_users, count(u) AS count50\n",
    "    RETURN toFloat(count50)/total_users * 100 AS percent50\n",
    "    \"\"\"\n",
    "    result = connection.execute_query(query)\n",
    "    print(result)\n",
    "get_50old_percent(neo4j_conn)"
   ]
  },
  {
   "cell_type": "markdown",
   "id": "751604a5-f803-4c56-8634-6cb7ac3a5a6d",
   "metadata": {},
   "source": [
    "Q4"
   ]
  },
  {
   "cell_type": "code",
   "execution_count": 78,
   "id": "df902620-605e-4e11-ae65-8f63e4c06b3b",
   "metadata": {},
   "outputs": [
    {
     "name": "stdout",
     "output_type": "stream",
     "text": [
      "Handbag\n"
     ]
    },
    {
     "name": "stderr",
     "output_type": "stream",
     "text": [
      "C:\\Users\\25353\\AppData\\Local\\Temp\\ipykernel_36792\\1646435487.py:15: DeprecationWarning: Using a driver after it has been closed is deprecated. Future versions of the driver will raise an error.\n",
      "  with self.driver.session() as session:\n"
     ]
    }
   ],
   "source": [
    "def get_popular_hawaii(connection):\n",
    "    query=\"\"\"\n",
    "    MATCH (u:User)-[p:PURCHASED]-> (i:Item)\n",
    "    WHERE p.location=\"Hawaii\"\n",
    "    RETURN i.item_name, count(p) AS itemandcount\n",
    "    ORDER BY itemandcount DESC\n",
    "    LIMIT 1 \n",
    "    \"\"\"\n",
    "    result= connection.execute_query(query)\n",
    "    print(result[0][\"i.item_name\"])\n",
    "get_popular_hawaii(neo4j_conn)"
   ]
  },
  {
   "cell_type": "markdown",
   "id": "d1af5ed3-5c06-457a-ae6e-4ce30ee29dec",
   "metadata": {},
   "source": [
    "Q5"
   ]
  },
  {
   "cell_type": "code",
   "execution_count": 86,
   "id": "b69a3530-f43e-4e60-9d50-74235126831f",
   "metadata": {},
   "outputs": [
    {
     "name": "stdout",
     "output_type": "stream",
     "text": [
      "Spring\n"
     ]
    },
    {
     "name": "stderr",
     "output_type": "stream",
     "text": [
      "C:\\Users\\25353\\AppData\\Local\\Temp\\ipykernel_36792\\1646435487.py:15: DeprecationWarning: Using a driver after it has been closed is deprecated. Future versions of the driver will raise an error.\n",
      "  with self.driver.session() as session:\n"
     ]
    }
   ],
   "source": [
    "def get_popular_season(connection):\n",
    "    query=\"\"\"\n",
    "    MATCH (u:User)-[p:PURCHASED]-> (i:Item)\n",
    "    WITH p.season AS season, count(p) AS season_count\n",
    "    ORDER BY season_count DESC\n",
    "    LIMIT 1\n",
    "    RETURN season, season_count\n",
    "    \"\"\"\n",
    "    result= connection.execute_query(query)\n",
    "    print(result[0]['season'])\n",
    "get_popular_season(neo4j_conn)"
   ]
  },
  {
   "cell_type": "code",
   "execution_count": 104,
   "id": "c2cc23f2-cda5-4f71-b2de-99c9fb062b48",
   "metadata": {},
   "outputs": [
    {
     "name": "stdout",
     "output_type": "stream",
     "text": [
      "2-Day Shipping\n"
     ]
    },
    {
     "name": "stderr",
     "output_type": "stream",
     "text": [
      "C:\\Users\\25353\\AppData\\Local\\Temp\\ipykernel_36792\\1646435487.py:15: DeprecationWarning: Using a driver after it has been closed is deprecated. Future versions of the driver will raise an error.\n",
      "  with self.driver.session() as session:\n"
     ]
    }
   ],
   "source": [
    "def get_season_shipping_method_number(connection):\n",
    "    query=\"\"\"\n",
    "    MATCH (u:User)-[p:PURCHASED]->(i:Item)\n",
    "    WHERE p.season = \"Spring\"\n",
    "    WITH p.shipping_type AS method, count(p) AS count\n",
    "    ORDER BY count DESC\n",
    "    LIMIT 1\n",
    "    RETURN method, count\n",
    "    \"\"\"\n",
    "    result= connection.execute_query(query)\n",
    "    print(result[0]['method'])\n",
    "get_season_shipping_method_number(neo4j_conn)"
   ]
  },
  {
   "cell_type": "markdown",
   "id": "36c00611-91ac-4f72-b827-fb7c93cfad63",
   "metadata": {},
   "source": [
    "Q6"
   ]
  },
  {
   "cell_type": "code",
   "execution_count": 94,
   "id": "5f6192c2-45f7-4c5a-abe9-0a0f16c03203",
   "metadata": {},
   "outputs": [
    {
     "name": "stdout",
     "output_type": "stream",
     "text": [
      "['Handbag', 'Sweater', 'Shirt']\n"
     ]
    },
    {
     "name": "stderr",
     "output_type": "stream",
     "text": [
      "C:\\Users\\25353\\AppData\\Local\\Temp\\ipykernel_36792\\1646435487.py:15: DeprecationWarning: Using a driver after it has been closed is deprecated. Future versions of the driver will raise an error.\n",
      "  with self.driver.session() as session:\n"
     ]
    }
   ],
   "source": [
    "def top_3items_state(connection,statename):\n",
    "    query = \"\"\"\n",
    "    MATCH (u:User)-[p:PURCHASED]-> (i:Item)\n",
    "    WHERE p.location= $state\n",
    "    WITH i.item_name AS item, COUNT(p) AS count\n",
    "    ORDER BY count DESC\n",
    "    LIMIT 3\n",
    "    RETURN item\n",
    "    \"\"\"\n",
    "    result= connection.execute_query(query, parameters={\"state\":statename})\n",
    "    top_3items= [dictation[\"item\"] for dictation in result]\n",
    "    return top_3items\n",
    "state1= \"Kentucky\"\n",
    "items= top_3items_state(neo4j_conn, state1)\n",
    "print(items)"
   ]
  },
  {
   "cell_type": "code",
   "execution_count": null,
   "id": "da619cee-0a02-4b31-8999-46af0b56a523",
   "metadata": {},
   "outputs": [],
   "source": []
  }
 ],
 "metadata": {
  "kernelspec": {
   "display_name": "Python 3 (ipykernel)",
   "language": "python",
   "name": "python3"
  },
  "language_info": {
   "codemirror_mode": {
    "name": "ipython",
    "version": 3
   },
   "file_extension": ".py",
   "mimetype": "text/x-python",
   "name": "python",
   "nbconvert_exporter": "python",
   "pygments_lexer": "ipython3",
   "version": "3.9.18"
  }
 },
 "nbformat": 4,
 "nbformat_minor": 5
}
